{
 "cells": [
  {
   "attachments": {},
   "cell_type": "markdown",
   "metadata": {},
   "source": [
    "Import all necessary librarys"
   ]
  },
  {
   "cell_type": "code",
   "execution_count": 2,
   "metadata": {},
   "outputs": [
    {
     "name": "stdout",
     "output_type": "stream",
     "text": [
      "D:\\Documents\\GitHub\\Active-Vibration-Stabilization\n"
     ]
    }
   ],
   "source": [
    "import numpy as np\n",
    "import sys, os\n",
    "import time\n",
    "import matplotlib.pyplot as plt\n",
    "import sqlite3 as sql\n",
    "import builtins\n",
    "\n",
    "os.chdir(r'D:\\Documents\\GitHub\\Active-Vibration-Stabilization')\n",
    "print(os.getcwd())"
   ]
  },
  {
   "cell_type": "code",
   "execution_count": 14,
   "metadata": {},
   "outputs": [
    {
     "ename": "KeyboardInterrupt",
     "evalue": "",
     "output_type": "error",
     "traceback": [
      "\u001b[1;31m---------------------------------------------------------------------------\u001b[0m",
      "\u001b[1;31mKeyboardInterrupt\u001b[0m                         Traceback (most recent call last)",
      "Cell \u001b[1;32mIn[14], line 4\u001b[0m\n\u001b[0;32m      1\u001b[0m db \u001b[39m=\u001b[39m sql\u001b[39m.\u001b[39mconnect(\u001b[39m'\u001b[39m\u001b[39mMeetfiles/data/2023-04-17/2023-04-17 - 174804 (0.55).db\u001b[39m\u001b[39m'\u001b[39m)\n\u001b[0;32m      2\u001b[0m cur \u001b[39m=\u001b[39m db\u001b[39m.\u001b[39mcursor()\n\u001b[1;32m----> 4\u001b[0m res \u001b[39m=\u001b[39m np\u001b[39m.\u001b[39marray(cur\u001b[39m.\u001b[39;49mexecute(\u001b[39m'\u001b[39;49m\u001b[39mSELECT * FROM guralp\u001b[39;49m\u001b[39m'\u001b[39;49m)\u001b[39m.\u001b[39;49mfetchall())\n\u001b[0;32m      5\u001b[0m plt\u001b[39m.\u001b[39mplot(res[:,\u001b[39m0\u001b[39m],res[:,\u001b[39m1\u001b[39m:])\n",
      "\u001b[1;31mKeyboardInterrupt\u001b[0m: "
     ]
    }
   ],
   "source": [
    "db = sql.connect('Meetfiles/data/2023-04-17/2023-04-17 - 174804 (0.55).db')\n",
    "cur = db.cursor()\n",
    "\n",
    "res = np.array(cur.execute('SELECT * FROM guralp').fetchall())\n",
    "plt.plot(res[:,0],res[:,1:])"
   ]
  },
  {
   "cell_type": "code",
   "execution_count": 40,
   "metadata": {},
   "outputs": [
    {
     "name": "stdout",
     "output_type": "stream",
     "text": [
      "[0.5  0.55 0.6  0.65 0.7  0.75 0.8  0.85 0.9  0.95 1.   1.05 1.1  1.15\n",
      " 1.2  1.25 1.3  1.35 1.4  1.45 1.5  1.55 1.6  1.65 1.7  1.75 1.8  1.85\n",
      " 1.9  1.95 2.   2.05 2.1  2.15 2.2  2.25 2.3  2.35 2.4  2.45 2.5  2.55\n",
      " 2.6  2.65 2.7  2.75 2.8  2.85 2.9  2.95 3.  ]\n"
     ]
    },
    {
     "data": {
      "text/plain": [
       "10.566123105463806"
      ]
     },
     "execution_count": 40,
     "metadata": {},
     "output_type": "execute_result"
    }
   ],
   "source": [
    "F_POINTS = int((3.0-0.5)/0.05) + 1\n",
    "frequenties = np.linspace(0.5, 3.0, F_POINTS)\n",
    "print(frequenties)\n",
    "\n",
    "sum = 0\n",
    "for f in frequenties:\n",
    "    sum += 500/f\n",
    "    sum += 20\n",
    "    sum += 500/f\n",
    "\n",
    "sum/3600"
   ]
  },
  {
   "cell_type": "code",
   "execution_count": 42,
   "metadata": {},
   "outputs": [
    {
     "data": {
      "text/plain": [
       "58.0431796697012"
      ]
     },
     "execution_count": 42,
     "metadata": {},
     "output_type": "execute_result"
    }
   ],
   "source": [
    "sum%60"
   ]
  },
  {
   "cell_type": "code",
   "execution_count": 22,
   "metadata": {},
   "outputs": [
    {
     "data": {
      "text/plain": [
       "25.35"
      ]
     },
     "execution_count": 22,
     "metadata": {},
     "output_type": "execute_result"
    }
   ],
   "source": []
  }
 ],
 "metadata": {
  "kernelspec": {
   "display_name": ".venv",
   "language": "python",
   "name": "python3"
  },
  "language_info": {
   "codemirror_mode": {
    "name": "ipython",
    "version": 3
   },
   "file_extension": ".py",
   "mimetype": "text/x-python",
   "name": "python",
   "nbconvert_exporter": "python",
   "pygments_lexer": "ipython3",
   "version": "3.11.2"
  },
  "orig_nbformat": 4
 },
 "nbformat": 4,
 "nbformat_minor": 2
}
