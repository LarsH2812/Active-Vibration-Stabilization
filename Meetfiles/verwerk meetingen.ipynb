{
 "cells": [
  {
   "attachments": {},
   "cell_type": "markdown",
   "metadata": {},
   "source": [
    "Import all necessary librarys"
   ]
  },
  {
   "cell_type": "code",
   "execution_count": null,
   "metadata": {},
   "outputs": [],
   "source": [
    "import numpy as np\n",
    "import sys, os\n",
    "import time\n",
    "import matplotlib.pyplot as plt\n",
    "import sqlite3 as sql\n",
    "\n",
    "%matplotlib qt\n",
    "\n",
    "print(os.getcwd())\n",
    "os.chdir(r'd:\\Documenten\\Documents\\GitHub\\Active-Vibration-Stabilization')"
   ]
  },
  {
   "cell_type": "code",
   "execution_count": 118,
   "metadata": {},
   "outputs": [],
   "source": [
    "DISTANCES = {\n",
    "'gnx':1.3750, 'gex':0.0000, 'gtx':0.0559,\n",
    "'gny':0.0000, 'gey':1.3750, 'gty':0.3449,\n",
    "'gnz':0.7528, 'gez':0.7528, 'gtz':3.2772,\n",
    "}\n",
    "\n",
    "AMAT = np.matrix([\n",
    "#    x | y | z |        rx         |        ry         |          rz\n",
    "    [0 , 1 , 0 , -DISTANCES['gnz'] ,                 0 , -DISTANCES['gnx']],    # northY\n",
    "    [0 , 0 , 1 , -DISTANCES['gny'] ,  DISTANCES['gnx'] ,                 0],    # northZ\n",
    "    [1 , 0 , 0 ,                 0 ,  DISTANCES['gez'] ,  DISTANCES['gey']],    # eastX\n",
    "    [0 , 0 , 1 , -DISTANCES['gey'] ,  DISTANCES['gex'] ,                 0],    # eastZ\n",
    "    [1 , 0 , 0 ,                 0 , -DISTANCES['gtz'] ,  DISTANCES['gty']],    # topX\n",
    "    [0 , 1 , 0 ,  DISTANCES['gtz'] ,                 0 , -DISTANCES['gtx']],    # topY\n",
    "])\n",
    "AMAT_INV = np.linalg.inv(AMAT)\n"
   ]
  },
  {
   "cell_type": "code",
   "execution_count": null,
   "metadata": {},
   "outputs": [],
   "source": [
    "f = .00\n",
    "file = f'Meetfiles/data/2023-04-15/2023-04-15 - 000959 ({f:.2f})'\n",
    "db = sql.connect(f'{file}.db')\n",
    "cur = db.cursor()\n",
    "\n",
    "timestamps = np.load(f'{file}.npy')\n",
    "\n",
    "\n",
    "\n",
    "\n",
    "print(timestamps)\n",
    "\n",
    "# for m,n,o in zip(range(4,len(timestamps),3),range(3,len(timestamps),3),range(2,len(timestamps),3)):\n",
    "#     print((timestamps[m]-timestamps[n])*timestamps[o])\n",
    "\n",
    "timestamp = np.where(np.round(timestamps,2) == f)[0][0]\n",
    "t_min = 0# timestamps[timestamp+1]\n",
    "t_max = timestamps[timestamp+1] #timestamps[timestamp+2]\n",
    "\n",
    "print(f'f\\t=\\t{timestamps[timestamp]}\\nt_min\\t=\\t{t_min}\\nt_max\\t=\\t{ t_max}')"
   ]
  },
  {
   "cell_type": "markdown",
   "metadata": {},
   "source": [
    "total = np.transpose(cur.execute(f'SELECT * FROM guralp WHERE t BETWEEN {t_min} AND {t_max}').fetchall())"
   ]
  },
  {
   "cell_type": "markdown",
   "metadata": {},
   "source": [
    "\n",
    "fig1, fig1_axes = plt.subplots(9,1,sharex=True,sharey=True, gridspec_kw=dict(hspace=0))\n",
    "fig1_manager = plt.get_current_fig_manager()\n",
    "fig1_manager.window.showMaximized()\n",
    "fig1_manager.set_window_title('Raw data')\n",
    "\n",
    "\n",
    "for i, (ax,l) in enumerate(zip(fig1_axes,['topx','topy','topz','northx','northy','northz','eastx','easty','eastz',]),1):\n",
    "    ax.plot(total[0],total[i])\n",
    "    ax.set_ylabel(l)\n",
    "    ax.margins(x= 0)\n",
    "\n",
    "fig1_axes[0].set_title('raw data', dict(fontsize=48))\n",
    "plt.pause(0.002)\n",
    "plt.tight_layout()\n"
   ]
  },
  {
   "cell_type": "code",
   "execution_count": null,
   "metadata": {},
   "outputs": [],
   "source": [
    "data = np.transpose(cur.execute(f'SELECT t,northY,northZ,eastX,eastZ,topX,topY FROM guralp WHERE t BETWEEN {t_min} AND {t_max} ').fetchall())\n"
   ]
  },
  {
   "cell_type": "code",
   "execution_count": null,
   "metadata": {},
   "outputs": [],
   "source": [
    "meas = np.mat(data[1:])\n",
    "\n",
    "out = AMAT_INV*meas\n",
    "out = np.array(out)\n"
   ]
  },
  {
   "cell_type": "markdown",
   "metadata": {},
   "source": [
    "fig2, fig2_axes = plt.subplots(6,1,sharex=True,sharey=True, gridspec_kw=dict(hspace=0))\n",
    "fig2_manager = plt.get_current_fig_manager()\n",
    "fig2_manager.window.showMaximized()\n",
    "fig2_manager.set_window_title('6 DoF measurements')\n",
    "\n",
    "\n",
    "for i, (ax,l) in enumerate(zip(fig2_axes,['x','y','z','rx','ry','rz'])):\n",
    "    ax.plot(data[0],out[i])\n",
    "    ax.set_ylabel(l)\n",
    "    ax.margins(x= 0)\n",
    "\n",
    "fig2_axes[0].set_title('6-DoF measurements',dict(fontsize=48))\n",
    "\n",
    "plt.pause(0.002)\n",
    "plt.tight_layout()"
   ]
  },
  {
   "cell_type": "code",
   "execution_count": null,
   "metadata": {},
   "outputs": [],
   "source": [
    "dt = np.average([h-l for h,l in zip(data[0][1:],data[0])])\n",
    "print(data[0,-1]-data[0,0])\n",
    "fourier_transform = np.fft.fft(data[2], len(data[2]))/len(data[2])\n",
    "# fourier_transform = fourier_transform[range(int(len(fourier_transform)/2))]\n",
    "fourier_frequencies = np.fft.fftfreq(len(data[2]),dt)\n",
    "print(len(data[2]))\n",
    "print(dt)\n",
    "tpCount = 718573#len(data[2])\n",
    "values = np.arange(int(tpCount/2))\n",
    "timePeriod = tpCount/1000\n",
    "frequencies = values / timePeriod\n",
    "\n",
    "fig3, fig3_axes = plt.subplots(1,1,sharex=True,gridspec_kw=dict(hspace=0))\n",
    "fig3_manager = plt.get_current_fig_manager()\n",
    "fig3_manager.set_window_title(f'{f:.2f}')\n",
    "fig3_manager.window.showMaximized()\n",
    "\n",
    "\n",
    "fig3_axes.set_xscale('log')\n",
    "fig3_axes.set_yscale('linear')\n",
    "\n",
    "fig3_axes.plot(fourier_frequencies, np.abs(fourier_transform))\n",
    "\n",
    "fig3_axes.set_title('Fourier transform of the signal along the z-axis', dict(fontsize=48))\n",
    "plt.pause(0.002)\n",
    "plt.tight_layout()"
   ]
  },
  {
   "cell_type": "code",
   "execution_count": null,
   "metadata": {},
   "outputs": [],
   "source": [
    "\n",
    "max_amp = np.max(np.abs(fourier_transform[(0.1 < fourier_frequencies) * (fourier_frequencies < 10)]))\n",
    "\n",
    "Hz1_4 = np.where(np.abs(fourier_transform) == max_amp)[0][0]\n",
    "\n",
    "freq = fourier_frequencies[Hz1_4]\n",
    "amp = np.abs(fourier_transform[Hz1_4])\n",
    "pha = np.rad2deg(np.angle(fourier_transform[Hz1_4]))\n",
    "label = fr'''f={freq:.4f}[Hz] A = {amp:.2f} varphi = {pha:.2f} [rad]'''\n",
    "print(label)\n",
    "fig3_axes.annotate(label,(freq,amp), textcoords=\"offset points\", xytext=(30,10), ha='center')\n",
    "fig3_axes.scatter(freq,amp, c='r')\n"
   ]
  },
  {
   "cell_type": "code",
   "execution_count": null,
   "metadata": {},
   "outputs": [],
   "source": [
    "for num in plt.get_fignums():\n",
    "    curfig = plt.figure(num)\n",
    "    curfigmanager = plt.get_current_fig_manager()\n",
    "    title = f'measure (2 - {curfigmanager.get_window_title()}) Fourier_Transform_z_axis'\n",
    "    curfig.savefig(f'Meetfiles/data/2023-04-15/{title}.png', transparent= True, dpi = 600, format= 'png')"
   ]
  },
  {
   "cell_type": "code",
   "execution_count": null,
   "metadata": {},
   "outputs": [],
   "source": [
    "db.close()"
   ]
  },
  {
   "cell_type": "code",
   "execution_count": 88,
   "metadata": {},
   "outputs": [],
   "source": [
    "tf = np.load('TransferFunction_V2.npy')\n",
    "transferfunction = np.empty((0,4))\n",
    "for i,trans in zip(np.arange(00.5,3.05,0.05),tf):\n",
    "    Hz1_4 = i*np.ones_like(fourier_frequencies)\n",
    "    fr = np.argmin(np.abs(Hz1_4-fourier_frequencies))\n",
    "    transferfunction= np.append(transferfunction, [[i, fourier_transform[fr], trans, (trans-fourier_transform[fr])]],0)\n",
    "np.save('full transferfunction.npy',transferfunction)\n",
    "\n",
    "\n",
    "\n",
    "q1 = plt.quiver(0,0,np.real(transferfunction[0,1]),np.imag(transferfunction[0,1]), angles='xy', scale_units='xy', scale=1, color = 'b')\n",
    "q2 = plt.quiver(0,0,np.real(transferfunction[0,2]),np.imag(transferfunction[0,2]), angles='xy', scale_units='xy', scale=1, color='r')\n",
    "q3 = plt.quiver(np.real(transferfunction[0,1]),np.imag(transferfunction[0,1]),np.real(transferfunction[0,3]),np.imag(transferfunction[0,3]), angles='xy', scale_units='xy', scale=1, color = 'g')\n",
    "plt.show()\n",
    "# for q in range(51):\n",
    "#     q1.set_UVC(np.real(transferfunction[q,0]),np.imag(transferfunction[q,0]))\n",
    "#     q2.set_UVC(np.real(transferfunction[q,1]),np.imag(transferfunction[q,1]))\n",
    "#     q3.set_offsets((np.real(transferfunction[q,0]),np.imag(transferfunction[q,0])))\n",
    "#     q3.set_UVC(np.real(transfromfunction[q]),np.imag(transfromfunction[q]))\n",
    "\n",
    "    \n",
    "#     plt.pause(.5)"
   ]
  },
  {
   "cell_type": "code",
   "execution_count": 117,
   "metadata": {},
   "outputs": [],
   "source": [
    "fs = np.arange(0.5,3.05,.05)\n",
    "\n",
    "amplitude = np.abs(np.load('full transferfunction.npy'))\n",
    "phase = np.rad2deg(np.angle(np.load('full transferfunction.npy')))\n",
    "\n",
    "\n",
    "fig4, (bode_amplitude, bode_phase) = plt.subplots(2,1,sharex=True)\n",
    "fig4_manager = plt.get_current_fig_manager()\n",
    "fig4_manager.set_window_title('bodeplot East Z')\n",
    "fig4_manager.window.showMaximized()\n",
    "\n",
    "bode_amplitude.set_xscale('log'); bode_amplitude.set_yscale('log')\n",
    "bode_amplitude.set_ylabel('Magnitude $|H(s)|$')\n",
    "bode_phase.set_ylabel('fase $arg(H(s))$')\n",
    "bode_amplitude.grid(True,'both')\n",
    "bode_phase.grid(True, 'both')\n",
    "\n",
    "bode_amplitude.plot(fs, amplitude[:,-1])\n",
    "bode_phase.plot(fs, phase[:,-1])\n",
    "\n",
    "bode_amplitude.axvline(1.4)\n",
    "\n",
    "fig4.show()\n",
    "plt.pause(0.002)\n",
    "fig4.tight_layout()\n"
   ]
  }
 ],
 "metadata": {
  "kernelspec": {
   "display_name": ".venv",
   "language": "python",
   "name": "python3"
  },
  "language_info": {
   "codemirror_mode": {
    "name": "ipython",
    "version": 3
   },
   "file_extension": ".py",
   "mimetype": "text/x-python",
   "name": "python",
   "nbconvert_exporter": "python",
   "pygments_lexer": "ipython3",
   "version": "3.11.2"
  },
  "orig_nbformat": 4
 },
 "nbformat": 4,
 "nbformat_minor": 2
}
