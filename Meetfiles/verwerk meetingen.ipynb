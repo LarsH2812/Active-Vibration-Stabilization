{
 "cells": [
  {
   "attachments": {},
   "cell_type": "markdown",
   "metadata": {},
   "source": [
    "Import all necessary librarys"
   ]
  },
  {
   "cell_type": "code",
   "execution_count": 28,
   "metadata": {},
   "outputs": [
    {
     "name": "stdout",
     "output_type": "stream",
     "text": [
      "d:\\Documents\\GitHub\\Active-Vibration-Stabilization\\Meetfiles\n"
     ]
    }
   ],
   "source": [
    "import numpy as np\n",
    "import sys, os\n",
    "import time\n",
    "import matplotlib.pyplot as plt\n",
    "import sqlite3 as sql\n",
    "import builtins\n",
    "\n",
    "print(os.getcwd())"
   ]
  },
  {
   "cell_type": "code",
   "execution_count": 9,
   "metadata": {},
   "outputs": [],
   "source": [
    "t = np.arange(0.5,3.1,0.1)\n"
   ]
  },
  {
   "cell_type": "code",
   "execution_count": 55,
   "metadata": {},
   "outputs": [
    {
     "name": "stdout",
     "output_type": "stream",
     "text": [
      "[{'frequency': 0.5, 'setting': 20, 'measurement 1': 30.0, 'measurement 2': 40.0, 'measurement 3': 50.0, 'measurement 4': 60.0}\n",
      " {'frequency': 0.6, 'setting': 80.0, 'measurement 1': 88.33333333333333, 'measurement 2': 96.66666666666666, 'measurement 3': 104.99999999999999, 'measurement 4': 113.33333333333331}\n",
      " {'frequency': 0.7, 'setting': 133.33333333333331, 'measurement 1': 140.47619047619045, 'measurement 2': 147.6190476190476, 'measurement 3': 154.76190476190473, 'measurement 4': 161.90476190476187}\n",
      " {'frequency': 0.7999999999999999, 'setting': 181.90476190476187, 'measurement 1': 188.15476190476187, 'measurement 2': 194.40476190476187, 'measurement 3': 200.65476190476187, 'measurement 4': 206.90476190476187}\n",
      " {'frequency': 0.8999999999999999, 'setting': 226.90476190476187, 'measurement 1': 232.4603174603174, 'measurement 2': 238.01587301587296, 'measurement 3': 243.5714285714285, 'measurement 4': 249.12698412698404}\n",
      " {'frequency': 0.9999999999999999, 'setting': 269.12698412698404, 'measurement 1': 274.12698412698404, 'measurement 2': 279.12698412698404, 'measurement 3': 284.12698412698404, 'measurement 4': 289.12698412698404}\n",
      " {'frequency': 1.0999999999999999, 'setting': 309.12698412698404, 'measurement 1': 313.6724386724386, 'measurement 2': 318.21789321789316, 'measurement 3': 322.7633477633477, 'measurement 4': 327.3088023088023}\n",
      " {'frequency': 1.1999999999999997, 'setting': 347.3088023088023, 'measurement 1': 351.47546897546897, 'measurement 2': 355.64213564213566, 'measurement 3': 359.80880230880234, 'measurement 4': 363.975468975469}\n",
      " {'frequency': 1.2999999999999998, 'setting': 383.975468975469, 'measurement 1': 387.8216228216229, 'measurement 2': 391.66777666777676, 'measurement 3': 395.51393051393063, 'measurement 4': 399.3600843600845}\n",
      " {'frequency': 1.4, 'setting': 419.3600843600845, 'measurement 1': 422.93151293151305, 'measurement 2': 426.5029415029416, 'measurement 3': 430.07437007437017, 'measurement 4': 433.6457986457987}\n",
      " {'frequency': 1.4999999999999998, 'setting': 453.6457986457987, 'measurement 1': 456.97913197913203, 'measurement 2': 460.31246531246535, 'measurement 3': 463.64579864579866, 'measurement 4': 466.979131979132}\n",
      " {'frequency': 1.5999999999999996, 'setting': 486.979131979132, 'measurement 1': 490.104131979132, 'measurement 2': 493.229131979132, 'measurement 3': 496.354131979132, 'measurement 4': 499.479131979132}\n",
      " {'frequency': 1.6999999999999997, 'setting': 519.479131979132, 'measurement 1': 522.4203084497203, 'measurement 2': 525.3614849203086, 'measurement 3': 528.3026613908969, 'measurement 4': 531.2438378614852}\n",
      " {'frequency': 1.7999999999999998, 'setting': 551.2438378614852, 'measurement 1': 554.021615639263, 'measurement 2': 556.7993934170408, 'measurement 3': 559.5771711948187, 'measurement 4': 562.3549489725965}\n",
      " {'frequency': 1.8999999999999997, 'setting': 582.3549489725965, 'measurement 1': 584.9865279199649, 'measurement 2': 587.6181068673334, 'measurement 3': 590.2496858147018, 'measurement 4': 592.8812647620703}\n",
      " {'frequency': 1.9999999999999996, 'setting': 612.8812647620703, 'measurement 1': 615.3812647620703, 'measurement 2': 617.8812647620703, 'measurement 3': 620.3812647620703, 'measurement 4': 622.8812647620703}\n",
      " {'frequency': 2.0999999999999996, 'setting': 642.8812647620703, 'measurement 1': 645.2622171430227, 'measurement 2': 647.6431695239751, 'measurement 3': 650.0241219049275, 'measurement 4': 652.4050742858799}\n",
      " {'frequency': 2.1999999999999997, 'setting': 672.4050742858799, 'measurement 1': 674.6778015586071, 'measurement 2': 676.9505288313344, 'measurement 3': 679.2232561040616, 'measurement 4': 681.4959833767889}\n",
      " {'frequency': 2.3, 'setting': 701.4959833767889, 'measurement 1': 703.6698964202672, 'measurement 2': 705.8438094637454, 'measurement 3': 708.0177225072237, 'measurement 4': 710.1916355507019}\n",
      " {'frequency': 2.3999999999999995, 'setting': 730.1916355507019, 'measurement 1': 732.2749688840353, 'measurement 2': 734.3583022173686, 'measurement 3': 736.441635550702, 'measurement 4': 738.5249688840354}\n",
      " {'frequency': 2.4999999999999996, 'setting': 758.5249688840354, 'measurement 1': 760.5249688840354, 'measurement 2': 762.5249688840354, 'measurement 3': 764.5249688840354, 'measurement 4': 766.5249688840354}\n",
      " {'frequency': 2.5999999999999996, 'setting': 786.5249688840354, 'measurement 1': 788.4480458071123, 'measurement 2': 790.3711227301892, 'measurement 3': 792.2941996532661, 'measurement 4': 794.217276576343}\n",
      " {'frequency': 2.6999999999999993, 'setting': 814.217276576343, 'measurement 1': 816.0691284281949, 'measurement 2': 817.9209802800467, 'measurement 3': 819.7728321318986, 'measurement 4': 821.6246839837504}\n",
      " {'frequency': 2.7999999999999994, 'setting': 841.6246839837504, 'measurement 1': 843.4103982694647, 'measurement 2': 845.1961125551791, 'measurement 3': 846.9818268408934, 'measurement 4': 848.7675411266077}\n",
      " {'frequency': 2.8999999999999995, 'setting': 868.7675411266077, 'measurement 1': 870.4916790576423, 'measurement 2': 872.2158169886768, 'measurement 3': 873.9399549197113, 'measurement 4': 875.6640928507459}\n",
      " {'frequency': 2.9999999999999996, 'setting': 895.6640928507459, 'measurement 1': 897.3307595174125, 'measurement 2': 898.9974261840791, 'measurement 3': 900.6640928507458, 'measurement 4': 902.3307595174124}]\n"
     ]
    }
   ],
   "source": [
    "MEASUREMENTTMES = np.array([])\n",
    "t1 = 0\n",
    "for i in t:\n",
    "    times = {'frequency': i}\n",
    "    times['setting'] = t1 +20\n",
    "    t1 = t1+ 20\n",
    "    times['measurement 1'] = t1 + 5*1/i\n",
    "    t1 += 5*1/i\n",
    "    times['measurement 2'] = t1 + 5*1/i\n",
    "    t1 += 5*1/i\n",
    "    times['measurement 3'] = t1 + 5*1/i\n",
    "    t1 += 5*1/i\n",
    "    times['measurement 4'] = t1 + 5*1/i\n",
    "    t1 += 5*1/i\n",
    "    MEASUREMENTTMES = np.append(MEASUREMENTTMES, times)\n",
    "    # print(times)\n",
    "print(MEASUREMENTTMES)\n"
   ]
  },
  {
   "cell_type": "code",
   "execution_count": 60,
   "metadata": {},
   "outputs": [
    {
     "ename": "UnpicklingError",
     "evalue": "Failed to interpret file 'data/2023-04-11-102316.npy' as a pickle",
     "output_type": "error",
     "traceback": [
      "\u001b[1;31m---------------------------------------------------------------------------\u001b[0m",
      "\u001b[1;31mEOFError\u001b[0m                                  Traceback (most recent call last)",
      "File \u001b[1;32md:\\Documents\\GitHub\\Active-Vibration-Stabilization\\.venv\\Lib\\site-packages\\numpy\\lib\\npyio.py:441\u001b[0m, in \u001b[0;36mload\u001b[1;34m(file, mmap_mode, allow_pickle, fix_imports, encoding, max_header_size)\u001b[0m\n\u001b[0;32m    440\u001b[0m \u001b[39mtry\u001b[39;00m:\n\u001b[1;32m--> 441\u001b[0m     \u001b[39mreturn\u001b[39;00m pickle\u001b[39m.\u001b[39;49mload(fid, \u001b[39m*\u001b[39;49m\u001b[39m*\u001b[39;49mpickle_kwargs)\n\u001b[0;32m    442\u001b[0m \u001b[39mexcept\u001b[39;00m \u001b[39mException\u001b[39;00m \u001b[39mas\u001b[39;00m e:\n",
      "\u001b[1;31mEOFError\u001b[0m: Ran out of input",
      "\nThe above exception was the direct cause of the following exception:\n",
      "\u001b[1;31mUnpicklingError\u001b[0m                           Traceback (most recent call last)",
      "Cell \u001b[1;32mIn[60], line 3\u001b[0m\n\u001b[0;32m      1\u001b[0m filename \u001b[39m=\u001b[39m time\u001b[39m.\u001b[39mstrftime(\u001b[39m\"\u001b[39m\u001b[39m%\u001b[39m\u001b[39mY-\u001b[39m\u001b[39m%\u001b[39m\u001b[39mm-\u001b[39m\u001b[39m%d\u001b[39;00m\u001b[39m-\u001b[39m\u001b[39m%\u001b[39m\u001b[39mH\u001b[39m\u001b[39m%\u001b[39m\u001b[39mM\u001b[39m\u001b[39m%\u001b[39m\u001b[39mS\u001b[39m\u001b[39m\"\u001b[39m,time\u001b[39m.\u001b[39mlocaltime())\n\u001b[0;32m      2\u001b[0m np\u001b[39m.\u001b[39msave(\u001b[39mf\u001b[39m\u001b[39m'\u001b[39m\u001b[39m{\u001b[39;00mfilename\u001b[39m}\u001b[39;00m\u001b[39m'\u001b[39m,MEASUREMENTTMES)\n\u001b[1;32m----> 3\u001b[0m np\u001b[39m.\u001b[39;49mload(\u001b[39mf\u001b[39;49m\u001b[39m'\u001b[39;49m\u001b[39mdata/2023-04-11-102316.npy\u001b[39;49m\u001b[39m'\u001b[39;49m,allow_pickle\u001b[39m=\u001b[39;49m\u001b[39mTrue\u001b[39;49;00m)\n",
      "File \u001b[1;32md:\\Documents\\GitHub\\Active-Vibration-Stabilization\\.venv\\Lib\\site-packages\\numpy\\lib\\npyio.py:443\u001b[0m, in \u001b[0;36mload\u001b[1;34m(file, mmap_mode, allow_pickle, fix_imports, encoding, max_header_size)\u001b[0m\n\u001b[0;32m    441\u001b[0m     \u001b[39mreturn\u001b[39;00m pickle\u001b[39m.\u001b[39mload(fid, \u001b[39m*\u001b[39m\u001b[39m*\u001b[39mpickle_kwargs)\n\u001b[0;32m    442\u001b[0m \u001b[39mexcept\u001b[39;00m \u001b[39mException\u001b[39;00m \u001b[39mas\u001b[39;00m e:\n\u001b[1;32m--> 443\u001b[0m     \u001b[39mraise\u001b[39;00m pickle\u001b[39m.\u001b[39mUnpicklingError(\n\u001b[0;32m    444\u001b[0m         \u001b[39mf\u001b[39m\u001b[39m\"\u001b[39m\u001b[39mFailed to interpret file \u001b[39m\u001b[39m{\u001b[39;00mfile\u001b[39m!r}\u001b[39;00m\u001b[39m as a pickle\u001b[39m\u001b[39m\"\u001b[39m) \u001b[39mfrom\u001b[39;00m \u001b[39me\u001b[39;00m\n",
      "\u001b[1;31mUnpicklingError\u001b[0m: Failed to interpret file 'data/2023-04-11-102316.npy' as a pickle"
     ]
    }
   ],
   "source": [
    "filename = time.strftime(\"%Y-%m-%d-%H%M%S\",time.localtime())\n",
    "np.save(f'{filename}',MEASUREMENTTMES)\n",
    "np.load(f'data/2023-04-11-102316.npy',allow_pickle=True)"
   ]
  }
 ],
 "metadata": {
  "kernelspec": {
   "display_name": ".venv",
   "language": "python",
   "name": "python3"
  },
  "language_info": {
   "codemirror_mode": {
    "name": "ipython",
    "version": 3
   },
   "file_extension": ".py",
   "mimetype": "text/x-python",
   "name": "python",
   "nbconvert_exporter": "python",
   "pygments_lexer": "ipython3",
   "version": "3.11.2"
  },
  "orig_nbformat": 4
 },
 "nbformat": 4,
 "nbformat_minor": 2
}
